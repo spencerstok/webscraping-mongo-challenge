{
 "cells": [
  {
   "cell_type": "code",
   "execution_count": null,
   "metadata": {},
   "outputs": [],
   "source": [
    "from splinter import Browser\n",
    "from bs4 import BeautifulSoup as bs\n",
    "import time\n",
    "import pandas as pd"
   ]
  },
  {
   "cell_type": "code",
   "execution_count": null,
   "metadata": {},
   "outputs": [],
   "source": [
    "\n",
    "def init_browser():\n",
    "    # @NOTE: Replace the path with your actual path to the chromedriver\n",
    "    executable_path = {\"executable_path\": \"chromedriver.exe\"}\n",
    "    return Browser(\"chrome\", **executable_path, headless=False)\n",
    "\n"
   ]
  },
  {
   "cell_type": "code",
   "execution_count": null,
   "metadata": {},
   "outputs": [],
   "source": [
    "def scrape_info():\n",
    "    browser = init_browser()\n",
    "    \n",
    "##### Using Beautiful Soup to Scrape Latest Headline and Paragraph ####\n",
    "    url = \"https://mars.nasa.gov/news/\"\n",
    "    browser.visit(url)\n",
    "\n",
    "    time.sleep(1)\n",
    "\n",
    "    # Scrape page into Soup\n",
    "    html = browser.html\n",
    "    soup = bs(html, \"html.parser\")\n",
    "\n",
    "    # Get the content titles\n",
    "    content_titles = soup.find_all('div', class_='content_title')\n",
    "    # Get the first content title\n",
    "    news_title = content_titles[1].text\n",
    "    \n",
    "    \n",
    "    #Get the content paragraphs\n",
    "    content_paragraphs = soup.find_all('div', class_='article_teaser_body')\n",
    "    # Get the first paragraph\n",
    "    news_p = content_paragraphs[0].text\n",
    "\n",
    "    \n",
    "    \n",
    "#### Using Splinter To Get Featured Image ####\n",
    "    url = \"https://data-class-jpl-space.s3.amazonaws.com/JPL_Space/index.html\"\n",
    "    browser.visit(url)\n",
    "    \n",
    "    browser.click_link_by_partial_text('FULL IMAGE')  \n",
    "    \n",
    "    featured_img_url =  browser.find_by_xpath('/html/body/div[8]/div/div/div/div/img')[\"src\"]\n",
    " \n",
    "    \n",
    "    \n",
    "    \n",
    "#### Using Pandas to scrape table ####\n",
    "\n",
    "    data = pd.read_html(\"https://space-facts.com/mars/\")\n",
    "    \n",
    "    #Print how many tables were pulled\n",
    "    #print(len(data))\n",
    "    \n",
    "    facts_html_str = data[0].to_html()\n",
    "\n",
    "                        \n",
    "        \n",
    "    hemisphere_image_urls = []\n",
    "#### Using Splinter To Get 4 Images ####\n",
    "    url = \"https://astrogeology.usgs.gov/search/results?q=hemisphere+enhanced&k1=target&v1=Mars\"\n",
    "    browser.visit(url)\n",
    "    image_hrefs_list = []\n",
    "    for x in range(4):\n",
    "        x = x + 1\n",
    "        href_var = browser.find_by_xpath('//*[@id=\"product-section\"]/div[2]/div['+str(x)+']/a')[\"href\"]\n",
    "        image_hrefs_list.append(href_var)\n",
    "        \n",
    "    for href in image_hrefs_list:\n",
    "        browser.visit(href)\n",
    "        time.sleep(1)\n",
    "\n",
    "        hemi_name= browser.find_by_xpath('//*[@id=\"splashy\"]/div[1]/div[1]/div[3]/section/h2[1]').text\n",
    "\n",
    "       \n",
    "        browser.click_link_by_partial_text('Open') \n",
    "        wide_image =  browser.find_by_xpath('//*[@id=\"wide-image\"]/img')[\"src\"]\n",
    "      \n",
    "        \n",
    "        hemisphere_image_urls.append({'title':hemi_name, 'img_url':wide_image})\n",
    "        \n",
    "    print(hemisphere_image_urls)\n",
    "    \n",
    "    # Close the browser after scraping\n",
    "    browser.quit()\n",
    "\n",
    " "
   ]
  },
  {
   "cell_type": "code",
   "execution_count": null,
   "metadata": {},
   "outputs": [],
   "source": [
    "scrape_info()"
   ]
  },
  {
   "cell_type": "code",
   "execution_count": null,
   "metadata": {},
   "outputs": [],
   "source": []
  },
  {
   "cell_type": "code",
   "execution_count": null,
   "metadata": {},
   "outputs": [],
   "source": []
  }
 ],
 "metadata": {
  "kernelspec": {
   "display_name": "Python 3",
   "language": "python",
   "name": "python3"
  },
  "language_info": {
   "codemirror_mode": {
    "name": "ipython",
    "version": 3
   },
   "file_extension": ".py",
   "mimetype": "text/x-python",
   "name": "python",
   "nbconvert_exporter": "python",
   "pygments_lexer": "ipython3",
   "version": "3.9.1"
  }
 },
 "nbformat": 4,
 "nbformat_minor": 4
}
